{
 "cells": [
  {
   "cell_type": "code",
   "execution_count": 2,
   "metadata": {},
   "outputs": [],
   "source": [
    "import requests\n",
    "from bs4 import BeautifulSoup\n",
    "import pandas as pd\n",
    "import csv\n",
    "\n",
    "url = 'https://www.basketball-reference.com/leagues/NBA_2012_standings.html'\n",
    "response = requests.get(url)\n",
    "soup = BeautifulSoup(response.content, 'html.parser')\n",
    "\n",
    "east_standings = soup.find('table', {'id': 'confs_standings_E'})\n",
    "if east_standings is None:\n",
    "    east_standings = soup.find('table', {'id': 'divs_standings_E'})\n",
    "    east_rows = east_standings.find_all('tr')[2:]\n",
    "else:\n",
    "    east_rows = east_standings.find_all('tr')[1:]\n",
    "west_standings = soup.find('table', {'id': 'confs_standings_W'})\n",
    "if west_standings is None:\n",
    "    west_standings = soup.find('table', {'id': 'divs_standings_W'})\n",
    "    west_rows = west_standings.find_all('tr')[2:]\n",
    "else:\n",
    "    west_rows = west_standings.find_all('tr')[1:]\n",
    "\n",
    "data = []\n",
    "\n",
    "for i in range(len(east_rows)):\n",
    "    cols = east_rows[i].findAll('td')\n",
    "    team = east_rows[i].find('a')\n",
    "    if team is not None and len(cols) > 1:\n",
    "        data.append([team['href'][7:10], cols[2].text])\n",
    "\n",
    "    cols = west_rows[i].findAll('td')\n",
    "    team = west_rows[i].find('a')\n",
    "    if team is not None and len(cols) > 1:\n",
    "        data.append([team['href'][7:10], cols[2].text])\n",
    "\n",
    "data.sort(key=lambda x: float(x[1]), reverse=True)\n",
    "for i in range(30):\n",
    "    data[i] = [i + 1, data[i][0], data[i][1]]\n",
    "\n",
    "df = pd.DataFrame(data, columns=['Rk', 'Tm', 'Overall'])\n",
    "csv_content = df.to_csv(index=False)\n",
    "\n",
    "with open('../data/2011-12 Standings.csv', mode='w') as file:\n",
    "    file.write(csv_content)"
   ]
  }
 ],
 "metadata": {
  "kernelspec": {
   "display_name": "Python 3",
   "language": "python",
   "name": "python3"
  },
  "language_info": {
   "codemirror_mode": {
    "name": "ipython",
    "version": 3
   },
   "file_extension": ".py",
   "mimetype": "text/x-python",
   "name": "python",
   "nbconvert_exporter": "python",
   "pygments_lexer": "ipython3",
   "version": "3.9.1"
  },
  "orig_nbformat": 4
 },
 "nbformat": 4,
 "nbformat_minor": 2
}
