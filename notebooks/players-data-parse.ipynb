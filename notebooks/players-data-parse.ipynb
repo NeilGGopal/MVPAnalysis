{
 "cells": [
  {
   "cell_type": "code",
   "execution_count": 11,
   "metadata": {},
   "outputs": [],
   "source": [
    "import requests\n",
    "from bs4 import BeautifulSoup\n",
    "import pandas as pd\n",
    "import csv\n",
    "\n",
    "url = 'https://www.basketball-reference.com/leagues/NBA_2012_advanced.html#advanced_stats'\n",
    "response = requests.get(url)\n",
    "soup = BeautifulSoup(response.content, 'html.parser')\n",
    "res = []\n",
    "table = soup.find('table').findAll('tr')\n",
    "for i in range(1, len(table)):\n",
    "    data = []\n",
    "    cols = table[i].findAll('td')\n",
    "    for c in cols:\n",
    "        data.append(c.text)\n",
    "    if len(data) > 27:\n",
    "        res.append([data[0], data[3], data[4], data[6], data[22], data[27]])\n",
    "\n",
    "df = pd.DataFrame(res, columns=['Player', 'Tm', 'G', 'PER', 'WS/48', 'VORP'])\n",
    "csv_content = df.to_csv(index=False)\n",
    "\n",
    "with open('../data/2011-12.csv', mode='w') as file:\n",
    "    file.write(csv_content)\n"
   ]
  }
 ],
 "metadata": {
  "kernelspec": {
   "display_name": "Python 3",
   "language": "python",
   "name": "python3"
  },
  "language_info": {
   "codemirror_mode": {
    "name": "ipython",
    "version": 3
   },
   "file_extension": ".py",
   "mimetype": "text/x-python",
   "name": "python",
   "nbconvert_exporter": "python",
   "pygments_lexer": "ipython3",
   "version": "3.9.1"
  },
  "orig_nbformat": 4
 },
 "nbformat": 4,
 "nbformat_minor": 2
}
